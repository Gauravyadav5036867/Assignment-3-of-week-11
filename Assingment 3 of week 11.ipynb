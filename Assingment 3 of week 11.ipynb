{
 "cells": [
  {
   "cell_type": "code",
   "execution_count": 1,
   "id": "9ece5125-4a28-4f8a-a529-bdef747daaf3",
   "metadata": {},
   "outputs": [],
   "source": [
    "#Question 1"
   ]
  },
  {
   "cell_type": "code",
   "execution_count": null,
   "id": "29ab6843-f814-4cba-a32f-689fba901882",
   "metadata": {},
   "outputs": [],
   "source": [
    "Estimation statistics, or simply estimation, is a data analysis framework that uses a combination of effect sizes, confidence intervals, precision planning, and meta-analysis to plan experiments, analyze data and interpret results.\n",
    "\n",
    "\n",
    "The process of finding an approximate value of some parameter—such as the mean (average)—of a population from random samples of the population.\n",
    "\n",
    "The use of sample data to estimate an interval of possible values of a parameter of interest. This is in contrast to point estimation, which gives a single value."
   ]
  },
  {
   "cell_type": "code",
   "execution_count": 2,
   "id": "982066ba-6ea3-4377-a23f-950e4d0d27d8",
   "metadata": {},
   "outputs": [],
   "source": [
    "#Question 2"
   ]
  },
  {
   "cell_type": "code",
   "execution_count": null,
   "id": "94a73fe9-6abc-4a34-a296-70ecf5a2b67a",
   "metadata": {},
   "outputs": [],
   "source": [
    "To estimate the population mean using a sample mean and standard deviation, you can use the formula for the sample mean and the standard error of the mean (SEM). \n",
    "\n",
    "import math\n",
    "\n",
    "def estimate_population_mean(sample_mean, sample_std_dev, sample_size):\n",
    "    # Calculate the standard error of the mean (SEM)\n",
    "    sem = sample_std_dev / math.sqrt(sample_size)\n",
    "    \n",
    "    # Calculate the lower and upper bounds of the confidence interval\n",
    "    lower_bound = sample_mean - 1.96 * sem  # 1.96 corresponds to a 95% confidence level\n",
    "    upper_bound = sample_mean + 1.96 * sem  # You can adjust the multiplier for different confidence levels\n",
    "    \n",
    "    # Return a tuple containing the estimate, lower bound, and upper bound\n",
    "    return sample_mean, lower_bound, upper_bound\n",
    "\n",
    "# Example usage\n",
    "sample_mean = 50  # Sample mean\n",
    "sample_std_dev = 10  # Sample standard deviation\n",
    "sample_size = 100  # Sample size\n",
    "\n",
    "estimate, lower_bound, upper_bound = estimate_population_mean(sample_mean, sample_std_dev, sample_size)\n",
    "print(f\"Estimated Population Mean: {estimate}\")\n",
    "print(f\"95% Confidence Interval: ({lower_bound}, {upper_bound})\")\n",
    "\n"
   ]
  },
  {
   "cell_type": "code",
   "execution_count": 3,
   "id": "723303f5-7742-4430-aaa6-bd52d5f877fd",
   "metadata": {},
   "outputs": [],
   "source": [
    "#Question 3"
   ]
  },
  {
   "cell_type": "code",
   "execution_count": null,
   "id": "f2ba2fcb-9fac-44ca-bfbc-d087bc40a9a6",
   "metadata": {},
   "outputs": [],
   "source": [
    "Hypothesis testing uses sample data to evaluate a hypothesis about a population.\n",
    "\n",
    "The purpose of hypothesis testing is to test whether the null hypothesis (there is no difference, no effect) can be rejected or approved.\n",
    "\n",
    "\n",
    "Hypothesis testing provides a reliable framework for making any data decisions for your population of interest. It helps the researcher to successfully extrapolate data from the sample to the larger population."
   ]
  },
  {
   "cell_type": "code",
   "execution_count": 4,
   "id": "b9663d1e-ee53-4807-b613-d4e222f865a2",
   "metadata": {},
   "outputs": [],
   "source": [
    "#Question 4"
   ]
  },
  {
   "cell_type": "code",
   "execution_count": null,
   "id": "503501c4-85c3-4ca6-90b3-c4174118ea4b",
   "metadata": {},
   "outputs": [],
   "source": [
    "Hypothesis testing is a statistical method used to make inferences about population parameters based on sample data.\n",
    "\n",
    "In this case, you want to test whether the average weight of male college students is greater than the average weight of female college students. \n",
    "\n",
    "set up the null and alternative hypotheses as follows:\n",
    "    \n",
    "    Null Hypothesis (H0): The average weight of male college students is equal to or less than the average weight of female college students.\n",
    "\n",
    "Alternative Hypothesis (Ha): The average weight of male college students is greater than the average weight of female college students.\n",
    "\n",
    "Mathematically, this can be expressed as:\n",
    "\n",
    "H0: μ_male <= μ_female\n",
    "\n",
    "Ha: μ_male > μ_female"
   ]
  },
  {
   "cell_type": "code",
   "execution_count": 5,
   "id": "2dd3fc98-d93b-475a-a007-0d28e243c816",
   "metadata": {},
   "outputs": [],
   "source": [
    "#Question 5"
   ]
  },
  {
   "cell_type": "code",
   "execution_count": null,
   "id": "418479b7-8e68-482a-bc89-09932307c02c",
   "metadata": {},
   "outputs": [],
   "source": [
    "To conduct a hypothesis test on the difference between two population means using samples from each population, you can use a t-test. \n",
    "\n",
    "import scipy.stats as stats\n",
    "\n",
    "def two_sample_t_test(sample1, sample2, alpha=0.05):\n",
    "    # Perform a two-sample t-test\n",
    "    t_stat, p_value = stats.ttest_ind(sample1, sample2, equal_var=False)  # Assuming unequal variances\n",
    "    \n",
    "    # Determine whether to reject the null hypothesis\n",
    "    if p_value < alpha:\n",
    "        print(f\"Reject the null hypothesis (p-value = {p_value}), there is a significant difference between the means.\")\n",
    "    else:\n",
    "        print(f\"Fail to reject the null hypothesis (p-value = {p_value}), there is no significant difference between the means.\")\n",
    "\n",
    "# Example usage\n",
    "sample1 = [68, 72, 74, 71, 70, 69, 73, 75, 72, 70]\n",
    "sample2 = [63, 67, 68, 65, 66, 64, 68, 70, 66, 65]\n",
    "alpha = 0.05\n",
    "\n",
    "two_sample_t_test(sample1, sample2, alpha)\n"
   ]
  },
  {
   "cell_type": "code",
   "execution_count": 6,
   "id": "cf611d22-f8d7-4660-a60a-dd52b08b6c9f",
   "metadata": {},
   "outputs": [],
   "source": [
    "#Question 6"
   ]
  },
  {
   "cell_type": "code",
   "execution_count": null,
   "id": "1ca40aed-e367-41a9-8686-770110085174",
   "metadata": {},
   "outputs": [],
   "source": [
    "The null hypothesis of a test always predicts no effect or no relationship between variables, while the alternative hypothesis states your research prediction of an effect or relationship.\n",
    "\n",
    "#Example\n",
    " Null Hypothesis: H0: There is no difference in the salary of factory workers based on gender. Alternative Hypothesis: Ha: Male factory workers have a higher salary than female factory workers."
   ]
  },
  {
   "cell_type": "code",
   "execution_count": 7,
   "id": "d2563551-339d-4d4e-bc1f-baf0372546bb",
   "metadata": {},
   "outputs": [],
   "source": [
    "#Question 7"
   ]
  },
  {
   "cell_type": "code",
   "execution_count": null,
   "id": "9882765f-cbc1-40b8-b5df-a359b6146d5f",
   "metadata": {},
   "outputs": [],
   "source": [
    "Steps involve in the hypothesis testing.\n",
    "Identify Population and Sample.\n",
    "State the Hypotheses in terms of population parameters.\n",
    "State Assumptions and Check Conditions.\n",
    "Calculate the Test Statistic.\n",
    "Calculate the P-value.\n",
    "State the Conclusion"
   ]
  },
  {
   "cell_type": "code",
   "execution_count": 8,
   "id": "5b058f36-1194-4058-898f-71522d194b59",
   "metadata": {},
   "outputs": [],
   "source": [
    "#Question 8"
   ]
  },
  {
   "cell_type": "code",
   "execution_count": null,
   "id": "d9092cb9-b8bf-40a9-b35a-84d2e04093ab",
   "metadata": {},
   "outputs": [],
   "source": [
    "P-value Definition:\n",
    "The p-value, or probability value, is a statistical measure used in hypothesis testing. It quantifies the strength of the evidence against a null hypothesis. In the context of hypothesis testing, the p-value is the probability of observing a test statistic as extreme as, or more extreme than, what was observed in the sample, assuming that the null hypothesis is true.\n",
    "\n",
    "Significance in Hypothesis Testing:\n",
    "The p-value plays a crucial role in hypothesis testing and has the following significance:\n",
    "\n",
    "Decision Making: The p-value helps researchers and analysts make informed decisions about the null hypothesis. Specifically, it aids in deciding whether to reject or fail to reject the null hypothesis based on the collected data. If the p-value is small (typically less than a predefined significance level, often denoted as α), it suggests that the evidence is strong against the null hypothesis, and you may reject it. If the p-value is large, it suggests that the data does not provide strong evidence against the null hypothesis, and you would fail to reject it.\n",
    "\n",
    "Control of Type I Error: The p-value helps control the Type I error rate, which is the probability of incorrectly rejecting a true null hypothesis. By setting a significance level (α) before conducting a test (commonly 0.05 or 0.01), you can determine the threshold for statistical significance. If the p-value is less than α, you reject the null hypothesis, which corresponds to a controlled probability of making a Type I error.\n",
    "\n",
    "Quantifying Strength of Evidence: The p-value provides a quantifiable measure of the strength of evidence against the null hypothesis. Smaller p-values indicate stronger evidence against the null hypothesis, while larger p-values suggest weaker evidence. However, it's important to note that a small p-value does not prove that the null hypothesis is false; it merely indicates that the data is inconsistent with the null hypothesis.\n",
    "\n",
    "Comparison Across Studies: Researchers can use p-values to compare the results of different studies. If two studies have p-values below their respective significance levels, it suggests that both studies found evidence against the null hypothesis, even if the effect sizes or sample sizes are different.\n",
    "\n",
    "Transparency and Reproducibility: The reporting of p-values in scientific research promotes transparency and reproducibility. Other researchers can examine the p-value and determine if they would reach the same conclusion based on the same data."
   ]
  },
  {
   "cell_type": "code",
   "execution_count": 9,
   "id": "6c690c5b-3da8-42b7-bc5d-d04abb887bb5",
   "metadata": {},
   "outputs": [],
   "source": [
    "#Question 9"
   ]
  },
  {
   "cell_type": "code",
   "execution_count": null,
   "id": "95c2dead-47ef-4b48-9a62-282588e8195e",
   "metadata": {},
   "outputs": [],
   "source": [
    "To generate a Students t-distribution plot in Python using the matplotlib library with degrees of freedom set to 10.\n",
    "we follow some steps:\n",
    "Import the necessary libraries.\n",
    "Create a range of x-values (typically a range of quantiles) for the t-distribution.\n",
    "Calculate the probability density function (PDF) for each x-value using the scipy.stats library.\n",
    "Plot the PDF using matplotlib.    \n",
    "\n",
    "\n",
    "import numpy as np\n",
    "import matplotlib.pyplot as plt\n",
    "import scipy.stats as stats\n",
    "\n",
    "# Degrees of freedom\n",
    "df = 10\n",
    "\n",
    "# Create a range of x-values\n",
    "x = np.linspace(-4, 4, 400)\n",
    "\n",
    "# Calculate the PDF (probability density function) for the t-distribution\n",
    "pdf = stats.t.pdf(x, df)\n",
    "\n",
    "# Plot the t-distribution\n",
    "plt.plot(x, pdf, label=f'Student\\'s t-distribution (df={df})')\n",
    "plt.title('Student\\'s t-distribution')\n",
    "plt.xlabel('x')\n",
    "plt.ylabel('PDF')\n",
    "plt.legend()\n",
    "plt.grid(True)\n",
    "plt.show()\n",
    "\n"
   ]
  },
  {
   "cell_type": "code",
   "execution_count": 10,
   "id": "551562ae-2357-4dec-a1f1-6d22d39c67a6",
   "metadata": {},
   "outputs": [],
   "source": [
    "#Question 10"
   ]
  },
  {
   "cell_type": "code",
   "execution_count": null,
   "id": "b6518394-9bb6-4c6e-b7f7-df7657407b65",
   "metadata": {},
   "outputs": [],
   "source": [
    "import numpy as np\n",
    "import scipy.stats as stats\n",
    "\n",
    "# Generate two random samples (replace these with your actual data)\n",
    "sample1 = np.array([72, 74, 73, 76, 71, 75, 78, 77, 79, 80])\n",
    "sample2 = np.array([65, 68, 66, 69, 67, 64, 70, 72, 68, 71])\n",
    "\n",
    "# Set the significance level (alpha)\n",
    "alpha = 0.05\n",
    "\n",
    "# Perform the two-sample t-test\n",
    "t_stat, p_value = stats.ttest_ind(sample1, sample2)\n",
    "\n",
    "# Determine whether to reject the null hypothesis\n",
    "if p_value < alpha:\n",
    "    print(f\"Reject the null hypothesis (p-value = {p_value}), the means are significantly different.\")\n",
    "else:\n",
    "    print(f\"Fail to reject the null hypothesis (p-value = {p_value}), there is no significant difference in means.\")\n"
   ]
  },
  {
   "cell_type": "code",
   "execution_count": 11,
   "id": "46db19ca-4fad-435d-b7a6-2d14edc59d35",
   "metadata": {},
   "outputs": [],
   "source": [
    "#Question 11"
   ]
  },
  {
   "cell_type": "code",
   "execution_count": null,
   "id": "1febb6ec-c491-49ec-ab49-8b4e4786d943",
   "metadata": {},
   "outputs": [],
   "source": [
    "Student's t-distribution, also known as the t-distribution, is a probability distribution that is used in statistics for making inferences about the population mean when the sample size is small or when the population standard deviation is unknown."
   ]
  },
  {
   "cell_type": "code",
   "execution_count": 12,
   "id": "bcb0a8cc-0f77-4262-96db-1de5ead59fca",
   "metadata": {},
   "outputs": [],
   "source": [
    "#Question 12"
   ]
  },
  {
   "cell_type": "code",
   "execution_count": null,
   "id": "d37429e2-614b-4fcb-805d-19ff394d27a0",
   "metadata": {},
   "outputs": [],
   "source": [
    "The t-statistic (also known as the Student's t-statistic) is a measure used in hypothesis testing to assess the difference between sample means and is often used in situations where the population standard deviation is unknown. It helps determine whether the difference between sample means is statistically significant or just due to random chance.\n",
    "\n",
    "The formula for the t-statistic in the context of a two-sample t-test for independent samples (comparing two groups or populations) is as follows:\n",
    "\n",
    "Two-Sample T-Test for Independent Samples (unequal variances):\n",
    "\n",
    "t = \\frac{{\\bar{X}_1 - \\bar{X}_2}}{{\\sqrt{\\frac{{s_1^2}}{{n_1}} + \\frac{{s_2^2}}{{n_2}}}}\n",
    "\n",
    "Where:\n",
    "\n",
    "�\n",
    "ˉ\n",
    "1\n",
    "X\n",
    "ˉ\n",
    "  \n",
    "1\n",
    "​\n",
    "  and \n",
    "�\n",
    "ˉ\n",
    "2\n",
    "X\n",
    "ˉ\n",
    "  \n",
    "2\n",
    "​\n",
    "  are the sample means of the two independent samples.\n",
    "�\n",
    "1\n",
    "s \n",
    "1\n",
    "​\n",
    "  and \n",
    "�\n",
    "2\n",
    "s \n",
    "2\n",
    "​\n",
    "  are the sample standard deviations of the two samples.\n",
    "�\n",
    "1\n",
    "n \n",
    "1\n",
    "​\n",
    "  and \n",
    "�\n",
    "2\n",
    "n \n",
    "2\n",
    "​\n",
    "  are the sample sizes of the two samples"
   ]
  },
  {
   "cell_type": "code",
   "execution_count": 13,
   "id": "7df38ce7-1e26-4a55-b6e7-f5bc5249c783",
   "metadata": {},
   "outputs": [],
   "source": [
    "#Question 13"
   ]
  },
  {
   "cell_type": "code",
   "execution_count": null,
   "id": "4531442b-32b8-4973-aba0-f5d9dd27a737",
   "metadata": {},
   "outputs": [],
   "source": []
  }
 ],
 "metadata": {
  "kernelspec": {
   "display_name": "Python 3 (ipykernel)",
   "language": "python",
   "name": "python3"
  },
  "language_info": {
   "codemirror_mode": {
    "name": "ipython",
    "version": 3
   },
   "file_extension": ".py",
   "mimetype": "text/x-python",
   "name": "python",
   "nbconvert_exporter": "python",
   "pygments_lexer": "ipython3",
   "version": "3.10.8"
  }
 },
 "nbformat": 4,
 "nbformat_minor": 5
}
